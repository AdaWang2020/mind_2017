{
 "cells": [
  {
   "cell_type": "code",
   "execution_count": 7,
   "metadata": {
    "collapsed": true
   },
   "outputs": [],
   "source": [
    "from brainiak.factoranalysis.tfa import TFA\n",
    "from brainiak.factoranalysis.htfa import HTFA\n",
    "import hypertools as hyp\n",
    "import nilearn as nl\n",
    "from IPython.display import YouTubeVideo\n",
    "\n",
    "%matplotlib inline"
   ]
  },
  {
   "cell_type": "markdown",
   "metadata": {},
   "source": [
    "# Background and overview #\n",
    "\n",
    "We'll be learning how to create movies of dynamic brain networks using single-subject and multi-subject fMRI data.  After getting the dataset and wrangling it into the proper format, there are three basic steps:\n",
    "1. Use Hierarchical Topographic Factor Analysis (HTFA) to obtain a set of network \"hubs,\" and the moment-by-moment hub activations.  Model details may be found [here](http://www.biorxiv.org/content/early/2017/02/07/106690).  This creates a simplified version of the full-brain data that is especially useful for computing dynamic network patterns.\n",
    "1. Use the hub activactions to compute the moment-by-moment connectivity matrix reflected by the data.  We will be using a modified version of Inter-Subject Functional Connectivity (ISFC), which you can read more about [here](https://docs.wixstatic.com/ugd/b75639_92eab30b43284ca0bd163e3daa709eda.pdf).\n",
    "1. Use [nilearn](http://nilearn.github.io/) and [hypertools](http://hypertools.readthedocs.io/en/latest/) to visualize the results and create pretty animations."
   ]
  },
  {
   "cell_type": "markdown",
   "metadata": {},
   "source": [
    "## Experiment ##\n",
    "We'll be exploring a part of a dataset collected by Uri Hasson's lab.  The experiment had 36 participants listen *Pie Man*, a story told by Jim O'Grady as part of *The Moth* live storytelling event.  You can listen to the story here:"
   ]
  },
  {
   "cell_type": "code",
   "execution_count": 9,
   "metadata": {},
   "outputs": [
    {
     "data": {
      "image/jpeg": "[encoded data removed]",
      "text/html": [
       "\n",
       "        <iframe\n",
       "            width=\"400\"\n",
       "            height=\"300\"\n",
       "            src=\"https://www.youtube.com/embed/3nZzSUDECLo\"\n",
       "            frameborder=\"0\"\n",
       "            allowfullscreen\n",
       "        ></iframe>\n",
       "        "
      ],
      "text/plain": [
       "<IPython.lib.display.YouTubeVideo at 0x7efc978e8e10>"
      ]
     },
     "execution_count": 9,
     "metadata": {},
     "output_type": "execute_result"
    }
   ],
   "source": [
    "YouTubeVideo('3nZzSUDECLo')"
   ]
  },
  {
   "cell_type": "markdown",
   "metadata": {},
   "source": [
    "## Data ##\n",
    "The dataset comprises 36 preprocessed .nii files, and may be downloaded [here](MISSING LINK).  However, in the interest of running the analysis quickly, for this tutorial we're going to be working with just a small part of the dataset: 100 images from each of 5 participants.  This smaller dataset may be downloaded [here](ADD LINK).\n",
    "\n",
    "### Data formatting: .nii --> matrix format ###\n",
    "To computing HTFA-derived brain networks, we're going to first convert the .nii files into [CMU format](http://www.cs.cmu.edu/afs/cs/project/theo-73/www/science2008/README-data-documentation.txt), inspired by Tom Mitchell's website for his 2008 Science paper on predicting brain responses to common nouns ([link](http://www.cs.cmu.edu/afs/cs/project/theo-73/www/science2008/data.html))."
   ]
  },
  {
   "cell_type": "raw",
   "metadata": {},
   "source": [
    "To do:\n",
    "\n",
    "- Download data as zip file and extract to local machine\n",
    "- Convert .nii files into CMU format\n",
    "- Use HyperTools to plot the voxel locations\n",
    "- Fit TFA to one subject's data and display the hub locations using nilearn (plot connectome)\n",
    "- Fit HTFA to the \"full\" (mini) dataset and display the hub locations using nilearn\n",
    "- Use either TimeCorr or sliding windows to compute moment-by-moment ISFC matrices\n",
    "- Create connectomes for each frame and create an animation\n",
    "- Also use HyperTools to create an animation of the moment-by-moment ISFC matrices for two groups of participants (randomly assigned)"
   ]
  },
  {
   "cell_type": "code",
   "execution_count": null,
   "metadata": {
    "collapsed": true
   },
   "outputs": [],
   "source": []
  }
 ],
 "metadata": {
  "kernelspec": {
   "display_name": "Python 3",
   "language": "python",
   "name": "python3"
  },
  "language_info": {
   "codemirror_mode": {
    "name": "ipython",
    "version": 3
   },
   "file_extension": ".py",
   "mimetype": "text/x-python",
   "name": "python",
   "nbconvert_exporter": "python",
   "pygments_lexer": "ipython3",
   "version": "3.6.1"
  }
 },
 "nbformat": 4,
 "nbformat_minor": 2
}
